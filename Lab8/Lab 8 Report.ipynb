{
 "cells": [
  {
   "cell_type": "markdown",
   "id": "23e1f56e",
   "metadata": {},
   "source": [
    "# Lab 08 - Coherent Demodulation and QPSK\n",
    "\n",
    "## Purpose\n",
    "\n",
    "The purpose of this lab is to realize the coherent communication between our Tx & Rx stations by building upon the previous lab and implementing two more functional modules: the frequency & phase synchronization module and the coherent demodulation module combing the matched filter. In the end, we will introduce the Quadrature Phase-Shift Keying (QPSK).\n",
    "\n",
    "## Outline\n",
    "- Develop an algorithm for frequency offset estimation using FFT.\n",
    "- Develop an algorithm for phase offset estimation by calculating the average of phase angles of received preamble samples. \n",
    "- Integrate and unit test the Frequency offset estimation block.\n",
    "- Integrate and unit test the Phase offset estimation block.\n",
    "- Develop and Implement the QPSK Symbol Demodulation algorithm.\n",
    "- Test and optimize the system.\n",
    "\n",
    "## Exercises\n"
   ]
  },
  {
   "cell_type": "markdown",
   "id": "4ffe0275",
   "metadata": {},
   "source": [
    "### Exercise 8.1: Developing an algorithm for Frequency Synchronization\n",
    "\n",
    "<font color='red'>Summary: \n",
    "\n",
    "<font color='red'>* Final edited code block:"
   ]
  },
  {
   "cell_type": "code",
   "execution_count": null,
   "id": "17f4bb87",
   "metadata": {},
   "outputs": [],
   "source": []
  },
  {
   "cell_type": "markdown",
   "id": "1e749f6e",
   "metadata": {},
   "source": [
    "<font color='red'>* Screenshot showing that estimated offser and actual random offset is close to each other:\n",
    "\n",
    "\n",
    "<font color='red'>* Change the FFT length and repeat the experiment. Through screenshots, report the accuracy of offset for various FFT lengths."
   ]
  },
  {
   "cell_type": "markdown",
   "id": "73cba70b",
   "metadata": {},
   "source": [
    "<font color='red'>Observations/Conclusions: \n"
   ]
  },
  {
   "cell_type": "markdown",
   "id": "f436a363",
   "metadata": {},
   "source": [
    "### Exercise 8.2: Developing an algorithm for Phase Synchronization\n",
    "\n",
    "<font color='red'>Summary: \n",
    "\n",
    "* Final edited code block (including the function):\n"
   ]
  },
  {
   "cell_type": "code",
   "execution_count": null,
   "id": "04b0db57",
   "metadata": {},
   "outputs": [],
   "source": []
  },
  {
   "cell_type": "markdown",
   "id": "2281be97",
   "metadata": {},
   "source": [
    "<font color='red'>* Screenshot of the plot before and after phase offset estimation. \n",
    "\n",
    "<font color='red'>* Why does the plot of I channel baseband symbols with phase and frequency offset have a region that looks like a sine wave? (Hint: Preamble is modulated OOK symbols + bunch of ones appended after.)"
   ]
  },
  {
   "cell_type": "markdown",
   "id": "507e291d",
   "metadata": {},
   "source": [
    "<font color='red'>Observations/Conlusions:"
   ]
  },
  {
   "cell_type": "markdown",
   "id": "ed68e9f9",
   "metadata": {},
   "source": [
    "### Exercise 8.3: Implementing the Carrier Frequency Offset Estimation\n",
    "\n",
    "Summary: In this exercise, we extend Exercise 7.1 to include the frame_sync function. The function performs the cross correlation / matched-filtering based frame synchronization by match filtering the received, zero-mean / ac-coupled data with the matched filter response. The output is the crosscorrelation / Matched filtering result that is then fed to the peak search function which returns the location(s) of the payload beginning.\n",
    "\n",
    "<font color='red'>Go to exercise 8.1 and copy the part of code that has been intended to copy. Now find the file named freq_sync.py in the lab folder and replace the relevant part of the code in the function definition, by the earlier copied code segment. Then run the below code snipped and verify whether your output matches with the desired one."
   ]
  },
  {
   "cell_type": "code",
   "execution_count": null,
   "id": "2773aafb",
   "metadata": {
    "scrolled": true
   },
   "outputs": [],
   "source": []
  },
  {
   "cell_type": "markdown",
   "id": "54450715",
   "metadata": {},
   "source": [
    "<font color='red'>Observations/Conlusions: "
   ]
  },
  {
   "cell_type": "markdown",
   "id": "4b85771d",
   "metadata": {},
   "source": [
    "### Exercise 8.4: Implementing the Carrier Phase Offset Estimation\n",
    "\n",
    "<font color='red'>Summary: \n",
    "Note: Steps have been commented (##) before the line you need to edit. After you edit a particular line remove out the comment sign. Try to stick to the variable names, this helps the TAs to debug.\n",
    "Note: First complete the function in this exercise using the help provided in comments. After your comparison comes out to be a match (true), replace the part in phase_sync.py by copying just your working function (or the two lines of code)."
   ]
  },
  {
   "cell_type": "code",
   "execution_count": null,
   "id": "51c19070",
   "metadata": {},
   "outputs": [],
   "source": []
  },
  {
   "cell_type": "markdown",
   "id": "af4d862e",
   "metadata": {},
   "source": [
    "<font color='red'>Observations/Conlusions: "
   ]
  },
  {
   "cell_type": "markdown",
   "id": "82e35cdc",
   "metadata": {},
   "source": [
    "### Exercise 8.5: Developing and Implementing the QPSK Symbol Demodulation\n",
    "\n",
    "<font color='red'>Summary: The following script implemented the minimum distance based symbol demodulation for the signals with OOK and BPSK mdoulation schemes. You task is to fill out the remaining portions of the QPSK symbol demodulation."
   ]
  },
  {
   "cell_type": "markdown",
   "id": "19bf3123",
   "metadata": {},
   "source": [
    "Observations/Conlusions: "
   ]
  },
  {
   "cell_type": "markdown",
   "id": "c59670fe",
   "metadata": {},
   "source": [
    "### Exercise 8.6: Testing and Verification of the system\n",
    "\n",
    "<font color='red'>Summary:"
   ]
  },
  {
   "cell_type": "markdown",
   "id": "77351280",
   "metadata": {},
   "source": [
    "## Reflections\n",
    "\n",
    "A reflection should be included after each lab that you do in this class.  Place this reflection in your lab notebook, directly after the completed lab with questions.  In your reflection, you should include a detailed answer to several (>= 4) of the questions that are listed below.  You may add anything else that you think is relevant as well.\n",
    "\n",
    "Questions to consider as you do your reflection:\n",
    "\n",
    "1.\tWhat are you being asked to do and why?\n",
    "2.\tWhat do you think about what you see and do?\n",
    "3.\tWhat questions do you have about what you are being asked to observe, research, or do?\n",
    "4.\tWhat new ideas and questions are you asking yourself related to the activity?  What else do you know?  What questions do you have that you would like to answer by developing an experiment?\n",
    "5.\tWhat did you accomplish today?\n",
    "6.\tWhat are the investigations that you are doing?\n",
    "7.\tWhat questions are you trying to answer?\n",
    "8.\tWhat procedures did you use to answer the question?\n",
    "9.\tWhat did you learn as a result from experimenting?\n",
    "10.\tWhat can you conclude as a result of your experiments/investigations?  Use evidence to support your conclusion.\n",
    "11.\tHow are my conclusions you drew different from what you had thought prior to the investigation?\n",
    "12.\tWhat is your opinion of what you did in the experiment?\n",
    "13.\tWhat did you contribute?  What do you wish you contributed but were not able?  What kept you from being able to contribute the way you would have liked to?\n",
    "14.\tWhat really worked for you?  Why?\n",
    "15.\tWhat was not so successful for you?  Why?\n",
    "16.\tWhat would you like to improve upon?  How can you make these changes?\n",
    "17.\tHow is what you are doing relevant to what you are learning?\n",
    "18.\tWhat else would you like to explore?  What if you had done one thing differently?  How would that have affected events?  Be specific.\n",
    "19.\tHow can you relate this to the real world?  Give specific examples where this information can be useful.\n",
    "\n",
    "Note: When you are finished with your work, you may delete these instructions from the notebook before submitting."
   ]
  },
  {
   "cell_type": "markdown",
   "id": "747bbd80",
   "metadata": {},
   "source": [
    "### Reflection 6.1 Megan Riley\n",
    "\n"
   ]
  },
  {
   "cell_type": "markdown",
   "id": "e4881150",
   "metadata": {},
   "source": [
    "### Reflection 6.2 Verlee Richey\n",
    "\n",
    " "
   ]
  },
  {
   "cell_type": "markdown",
   "id": "7f003710",
   "metadata": {},
   "source": [
    "### Reflection 6.3 Gabriel Quintero\n",
    "\n"
   ]
  }
 ],
 "metadata": {
  "kernelspec": {
   "display_name": "Python 3 (ipykernel)",
   "language": "python",
   "name": "python3"
  },
  "language_info": {
   "codemirror_mode": {
    "name": "ipython",
    "version": 3
   },
   "file_extension": ".py",
   "mimetype": "text/x-python",
   "name": "python",
   "nbconvert_exporter": "python",
   "pygments_lexer": "ipython3",
   "version": "3.7.6"
  }
 },
 "nbformat": 4,
 "nbformat_minor": 5
}
