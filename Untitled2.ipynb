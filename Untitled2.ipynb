{
 "cells": [
  {
   "cell_type": "code",
   "execution_count": 35,
   "id": "3e9c1fea",
   "metadata": {},
   "outputs": [
    {
     "name": "stdout",
     "output_type": "stream",
     "text": [
      "7500000.0\n"
     ]
    }
   ],
   "source": [
    "import numpy as np\n",
    "import matplotlib.pylab as plt\n",
    "import math\n",
    "\n",
    "# separated by 2 MHz and centered at 15 MHz\n",
    "\n",
    "B = 2000000.\n",
    "fc = 15000000.\n",
    "fs = 5*2.6*(fc+B)\n",
    "fs=7.5e6\n",
    "print(fs)\n",
    "Ts = 1/fs\n",
    "n = np.arange(2*fs/B,dtype=int)\n",
    "m = np.cos(2*np.pi*(B/fs)*n)\n",
    "c = np.cos(2*np.pi*(fc/fs)*n)\n",
    "s = m*c"
   ]
  },
  {
   "cell_type": "code",
   "execution_count": 36,
   "id": "efdb602a",
   "metadata": {},
   "outputs": [
    {
     "data": {
      "image/png": "[encoded data removed]",
      "text/plain": [
       "<Figure size 432x288 with 1 Axes>"
      ]
     },
     "metadata": {
      "needs_background": "light"
     },
     "output_type": "display_data"
    }
   ],
   "source": [
    "K=8192\n",
    "S = np.square(np.abs(np.fft.fft(s,K)))\n",
    "plt.plot(np.arange(0,fs,fs/K),S,'-')\n",
    "plt.ylabel(\"$|S(f)|^2$\")\n",
    "plt.xlabel(\"Frequency (Hz)\")\n",
    "plt.axis([fc-3*B,fc+3*B,0.,1.1*np.max(S)])\n",
    "plt.show()"
   ]
  },
  {
   "cell_type": "code",
   "execution_count": null,
   "id": "9ee58f13",
   "metadata": {},
   "outputs": [],
   "source": []
  }
 ],
 "metadata": {
  "kernelspec": {
   "display_name": "Python 3 (ipykernel)",
   "language": "python",
   "name": "python3"
  },
  "language_info": {
   "codemirror_mode": {
    "name": "ipython",
    "version": 3
   },
   "file_extension": ".py",
   "mimetype": "text/x-python",
   "name": "python",
   "nbconvert_exporter": "python",
   "pygments_lexer": "ipython3",
   "version": "3.7.6"
  }
 },
 "nbformat": 4,
 "nbformat_minor": 5
}
